{
  "nbformat": 4,
  "nbformat_minor": 0,
  "metadata": {
    "colab": {
      "name": "ai_project.ipynb",
      "provenance": [],
      "collapsed_sections": [],
      "include_colab_link": true
    },
    "kernelspec": {
      "name": "python3",
      "display_name": "Python 3"
    },
    "language_info": {
      "name": "python"
    }
  },
  "cells": [
    {
      "cell_type": "markdown",
      "metadata": {
        "id": "view-in-github",
        "colab_type": "text"
      },
      "source": [
        "<a href=\"https://colab.research.google.com/github/yrlin411/2022_AI-FinalProject/blob/main/ai_project.ipynb\" target=\"_parent\"><img src=\"https://colab.research.google.com/assets/colab-badge.svg\" alt=\"Open In Colab\"/></a>"
      ]
    },
    {
      "cell_type": "code",
      "execution_count": null,
      "metadata": {
        "id": "FioucAhE5M39"
      },
      "outputs": [],
      "source": [
        "import pandas as pd\n",
        "from sklearn.preprocessing import LabelEncoder\n",
        "from sklearn.model_selection import train_test_split"
      ]
    },
    {
      "cell_type": "markdown",
      "source": [
        "prepare data for logistic regression and decision tree\n",
        "\n",
        "\n"
      ],
      "metadata": {
        "id": "IPIg4HmC6bZ4"
      }
    },
    {
      "cell_type": "code",
      "source": [
        "def basic_info ():\n",
        "    train_data = pd.read_csv(\"train.txt\", header=None, sep=\";\", names=[\"sentence\",\"emo\"], encoding=\"utf-8\")\n",
        "    test_data = pd.read_csv(\"test.txt\", header=None, sep=\";\", names=[\"sentence\",\"emo\"], encoding=\"utf-8\")\n",
        "    val_data = pd.read_csv(\"val.txt\", header=None, sep=\";\", names=[\"sentence\",\"emo\"], encoding=\"utf-8\")\n",
        "    df = pd.concat([train_data,test_data, val_data])\n",
        "    df['emo'].unique()\n",
        "    labelencoder = LabelEncoder()\n",
        "    df['emo_encoded'] = labelencoder.fit_transform(df['emo'])\n",
        "    df[['emo','emo_encoded']].drop_duplicates(keep='first')\n",
        "    # 3 columns : sentence, emo, emo_encoded\n",
        "    sentences = df.sentence.values\n",
        "    y = df.emo.values\n",
        "    x_train,x_test,y_train,y_test = train_test_split(sentences,y, test_size=0.1,shuffle=True, random_state=41)\n",
        "    return x_train,x_test,y_train,y_test"
      ],
      "metadata": {
        "id": "xYuKde6d6GLg"
      },
      "execution_count": null,
      "outputs": []
    },
    {
      "cell_type": "code",
      "source": [
        "import sklearn\n",
        "from sklearn.model_selection import train_test_split\n",
        "from sklearn.linear_model import LogisticRegression\n",
        "from sklearn.preprocessing import LabelEncoder\n",
        "from sklearn.feature_extraction.text import CountVectorizer\n",
        "from sklearn import tree\n",
        "from sklearn.pipeline import Pipeline\n",
        "from sklearn.metrics import classification_report,confusion_matrix,  precision_score, recall_score"
      ],
      "metadata": {
        "id": "E-t6lprP6Z3h"
      },
      "execution_count": null,
      "outputs": []
    },
    {
      "cell_type": "markdown",
      "source": [
        "decision tree\n"
      ],
      "metadata": {
        "id": "cdNk_y0k8PW2"
      }
    },
    {
      "cell_type": "code",
      "source": [
        "def decision_tree(x_train,x_test,y_train,y_test,MAX_DEPTH=25):\n",
        "    print(\"-------------Decision Tree-------------\")\n",
        "    clf=Pipeline(steps=[(\"cv\",CountVectorizer(stop_words='english', ngram_range=(1,1))),(\"Dt\",tree.DecisionTreeClassifier(criterion=\"entropy\",random_state=50))])#,max_depth=MAX_DEPTH\n",
        "    clf.fit(x_train, y_train)\n",
        "    y_pred_test = clf.predict(x_test)\n",
        "    y_predprob= clf.predict_proba(x_test)\n",
        "    matrix = confusion_matrix(y_test,y_pred_test)\n",
        "    # print(classification_report(y_test, y_pred_test))\n",
        "    # print(\"\\nAccuracy for Decision Tree model:\",sklearn.metrics.accuracy_score(y_test, y_pred_test))\n",
        "    print(\"Max depth of decision tree : \",MAX_DEPTH)\n",
        "    y_predict = clf.predict(x_test)\n",
        "\n",
        "    # print(len(y_pred_test))\n",
        "    acc_score = sklearn.metrics.accuracy_score(y_pred_test,y_test)\n",
        "    prec_score = precision_score(y_test,y_pred_test, average='macro')\n",
        "    recall = recall_score(y_test, y_pred_test,average='macro')\n",
        "    # print('Decision Tree Model')\n",
        "    print(str('Accuracy: '+'{:04.2f}'.format(acc_score*100))+'%')\n",
        "    # print(str('Precision: '+'{:04.2f}'.format(prec_score*100))+'%')\n",
        "    print(str('Recall: '+'{:04.2f}'.format(recall*100))+'%')\n",
        "    return clf"
      ],
      "metadata": {
        "id": "tIq00Obi8FUH"
      },
      "execution_count": null,
      "outputs": []
    },
    {
      "cell_type": "markdown",
      "source": [
        "logistic regression"
      ],
      "metadata": {
        "id": "Q58KvHfx8Yp-"
      }
    },
    {
      "cell_type": "code",
      "source": [
        "def logistic_regression(x_train,x_test,y_train,y_test,MAX_ITER=25):\n",
        "    print(\"-------------Logistic Regression-------------\")\n",
        "    clf=Pipeline(steps=[(\"cv\",CountVectorizer(stop_words='english', ngram_range=(1,1))),(\"lr\",LogisticRegression(max_iter=MAX_ITER))])#\n",
        "    #clf.fit(x_train,y_train)\n",
        "    #clf=Pipeline(steps=[(\"cv\",CountVectorizer(stop_words='english', ngram_range=(1,1))),(\"Dt\",tree.DecisionTreeClassifier(criterion=\"entropy\",random_state=50,max_depth=MAX_DEPTH))])#,max_depth=MAX_DEPTH\n",
        "    clf.fit(x_train, y_train)\n",
        "    y_pred_test = clf.predict(x_test)\n",
        "    y_predprob= clf.predict_proba(x_test)\n",
        "    matrix = confusion_matrix(y_test,y_pred_test)\n",
        "    # print(classification_report(y_test, y_pred_test))\n",
        "    # print(\"\\nAccuracy for Logistic Regression model:\",sklearn.metrics.accuracy_score(y_test, y_pred_test))\n",
        "    print(\"Max iteration of logistic regression : \",MAX_ITER)\n",
        "    y_predict = clf.predict(x_test)\n",
        "\n",
        "    acc_score = sklearn.metrics.accuracy_score(y_pred_test,y_test)\n",
        "    prec_score = precision_score(y_test,y_pred_test, average='macro')\n",
        "    recall = recall_score(y_test, y_pred_test,average='macro')\n",
        "    # print('Logistic Regression')\n",
        "    print(str('Accuracy: '+'{:04.2f}'.format(acc_score*100))+'%')\n",
        "    # print(str('Precision: '+'{:04.2f}'.format(prec_score*100))+'%')\n",
        "    print(str('Recall: '+'{:04.2f}'.format(recall*100))+'%')\n",
        "    return clf"
      ],
      "metadata": {
        "id": "y15ezdbM8KA2"
      },
      "execution_count": null,
      "outputs": []
    },
    {
      "cell_type": "code",
      "source": [
        "!pip install import-ipynb\n",
        "\n"
      ],
      "metadata": {
        "colab": {
          "base_uri": "https://localhost:8080/"
        },
        "id": "P5PnAldRFWrS",
        "outputId": "f94e7b43-415d-4c8e-a8a9-72ccd818f9ef"
      },
      "execution_count": null,
      "outputs": [
        {
          "output_type": "stream",
          "name": "stdout",
          "text": [
            "Looking in indexes: https://pypi.org/simple, https://us-python.pkg.dev/colab-wheels/public/simple/\n",
            "Requirement already satisfied: import-ipynb in /usr/local/lib/python3.7/dist-packages (0.1.4)\n",
            "Requirement already satisfied: nbformat in /usr/local/lib/python3.7/dist-packages (from import-ipynb) (5.4.0)\n",
            "Requirement already satisfied: IPython in /usr/local/lib/python3.7/dist-packages (from import-ipynb) (5.5.0)\n",
            "Requirement already satisfied: setuptools>=18.5 in /usr/local/lib/python3.7/dist-packages (from IPython->import-ipynb) (57.4.0)\n",
            "Requirement already satisfied: pickleshare in /usr/local/lib/python3.7/dist-packages (from IPython->import-ipynb) (0.7.5)\n",
            "Requirement already satisfied: decorator in /usr/local/lib/python3.7/dist-packages (from IPython->import-ipynb) (4.4.2)\n",
            "Requirement already satisfied: traitlets>=4.2 in /usr/local/lib/python3.7/dist-packages (from IPython->import-ipynb) (5.1.1)\n",
            "Requirement already satisfied: pexpect in /usr/local/lib/python3.7/dist-packages (from IPython->import-ipynb) (4.8.0)\n",
            "Requirement already satisfied: prompt-toolkit<2.0.0,>=1.0.4 in /usr/local/lib/python3.7/dist-packages (from IPython->import-ipynb) (1.0.18)\n",
            "Requirement already satisfied: simplegeneric>0.8 in /usr/local/lib/python3.7/dist-packages (from IPython->import-ipynb) (0.8.1)\n",
            "Requirement already satisfied: pygments in /usr/local/lib/python3.7/dist-packages (from IPython->import-ipynb) (2.6.1)\n",
            "Requirement already satisfied: wcwidth in /usr/local/lib/python3.7/dist-packages (from prompt-toolkit<2.0.0,>=1.0.4->IPython->import-ipynb) (0.2.5)\n",
            "Requirement already satisfied: six>=1.9.0 in /usr/local/lib/python3.7/dist-packages (from prompt-toolkit<2.0.0,>=1.0.4->IPython->import-ipynb) (1.15.0)\n",
            "Requirement already satisfied: jupyter-core in /usr/local/lib/python3.7/dist-packages (from nbformat->import-ipynb) (4.10.0)\n",
            "Requirement already satisfied: fastjsonschema in /usr/local/lib/python3.7/dist-packages (from nbformat->import-ipynb) (2.15.3)\n",
            "Requirement already satisfied: jsonschema>=2.6 in /usr/local/lib/python3.7/dist-packages (from nbformat->import-ipynb) (4.3.3)\n",
            "Requirement already satisfied: pyrsistent!=0.17.0,!=0.17.1,!=0.17.2,>=0.14.0 in /usr/local/lib/python3.7/dist-packages (from jsonschema>=2.6->nbformat->import-ipynb) (0.18.1)\n",
            "Requirement already satisfied: typing-extensions in /usr/local/lib/python3.7/dist-packages (from jsonschema>=2.6->nbformat->import-ipynb) (4.2.0)\n",
            "Requirement already satisfied: importlib-resources>=1.4.0 in /usr/local/lib/python3.7/dist-packages (from jsonschema>=2.6->nbformat->import-ipynb) (5.7.1)\n",
            "Requirement already satisfied: attrs>=17.4.0 in /usr/local/lib/python3.7/dist-packages (from jsonschema>=2.6->nbformat->import-ipynb) (21.4.0)\n",
            "Requirement already satisfied: importlib-metadata in /usr/local/lib/python3.7/dist-packages (from jsonschema>=2.6->nbformat->import-ipynb) (4.11.4)\n",
            "Requirement already satisfied: zipp>=3.1.0 in /usr/local/lib/python3.7/dist-packages (from importlib-resources>=1.4.0->jsonschema>=2.6->nbformat->import-ipynb) (3.8.0)\n",
            "Requirement already satisfied: ptyprocess>=0.5 in /usr/local/lib/python3.7/dist-packages (from pexpect->IPython->import-ipynb) (0.7.0)\n"
          ]
        }
      ]
    },
    {
      "cell_type": "code",
      "source": [
        "!pip install import-ipynb\n",
        "import import_ipynb\n",
        "\n",
        "!pip install -U -q PyDrive\n",
        "from pydrive.auth import GoogleAuth\n",
        "from pydrive.drive import GoogleDrive\n",
        "from google.colab import auth\n",
        "from oauth2client.client import GoogleCredentials\n",
        "\n",
        "import torch\n"
      ],
      "metadata": {
        "colab": {
          "base_uri": "https://localhost:8080/"
        },
        "id": "G0nFIj6eGQmY",
        "outputId": "b4b874bb-f92a-45f7-9735-b6028d694759"
      },
      "execution_count": null,
      "outputs": [
        {
          "output_type": "stream",
          "name": "stdout",
          "text": [
            "Looking in indexes: https://pypi.org/simple, https://us-python.pkg.dev/colab-wheels/public/simple/\n",
            "Requirement already satisfied: import-ipynb in /usr/local/lib/python3.7/dist-packages (0.1.4)\n",
            "Requirement already satisfied: nbformat in /usr/local/lib/python3.7/dist-packages (from import-ipynb) (5.4.0)\n",
            "Requirement already satisfied: IPython in /usr/local/lib/python3.7/dist-packages (from import-ipynb) (5.5.0)\n",
            "Requirement already satisfied: decorator in /usr/local/lib/python3.7/dist-packages (from IPython->import-ipynb) (4.4.2)\n",
            "Requirement already satisfied: setuptools>=18.5 in /usr/local/lib/python3.7/dist-packages (from IPython->import-ipynb) (57.4.0)\n",
            "Requirement already satisfied: pexpect in /usr/local/lib/python3.7/dist-packages (from IPython->import-ipynb) (4.8.0)\n",
            "Requirement already satisfied: pygments in /usr/local/lib/python3.7/dist-packages (from IPython->import-ipynb) (2.6.1)\n",
            "Requirement already satisfied: prompt-toolkit<2.0.0,>=1.0.4 in /usr/local/lib/python3.7/dist-packages (from IPython->import-ipynb) (1.0.18)\n",
            "Requirement already satisfied: traitlets>=4.2 in /usr/local/lib/python3.7/dist-packages (from IPython->import-ipynb) (5.1.1)\n",
            "Requirement already satisfied: pickleshare in /usr/local/lib/python3.7/dist-packages (from IPython->import-ipynb) (0.7.5)\n",
            "Requirement already satisfied: simplegeneric>0.8 in /usr/local/lib/python3.7/dist-packages (from IPython->import-ipynb) (0.8.1)\n",
            "Requirement already satisfied: wcwidth in /usr/local/lib/python3.7/dist-packages (from prompt-toolkit<2.0.0,>=1.0.4->IPython->import-ipynb) (0.2.5)\n",
            "Requirement already satisfied: six>=1.9.0 in /usr/local/lib/python3.7/dist-packages (from prompt-toolkit<2.0.0,>=1.0.4->IPython->import-ipynb) (1.15.0)\n",
            "Requirement already satisfied: fastjsonschema in /usr/local/lib/python3.7/dist-packages (from nbformat->import-ipynb) (2.15.3)\n",
            "Requirement already satisfied: jsonschema>=2.6 in /usr/local/lib/python3.7/dist-packages (from nbformat->import-ipynb) (4.3.3)\n",
            "Requirement already satisfied: jupyter-core in /usr/local/lib/python3.7/dist-packages (from nbformat->import-ipynb) (4.10.0)\n",
            "Requirement already satisfied: importlib-resources>=1.4.0 in /usr/local/lib/python3.7/dist-packages (from jsonschema>=2.6->nbformat->import-ipynb) (5.7.1)\n",
            "Requirement already satisfied: importlib-metadata in /usr/local/lib/python3.7/dist-packages (from jsonschema>=2.6->nbformat->import-ipynb) (4.11.4)\n",
            "Requirement already satisfied: pyrsistent!=0.17.0,!=0.17.1,!=0.17.2,>=0.14.0 in /usr/local/lib/python3.7/dist-packages (from jsonschema>=2.6->nbformat->import-ipynb) (0.18.1)\n",
            "Requirement already satisfied: typing-extensions in /usr/local/lib/python3.7/dist-packages (from jsonschema>=2.6->nbformat->import-ipynb) (4.2.0)\n",
            "Requirement already satisfied: attrs>=17.4.0 in /usr/local/lib/python3.7/dist-packages (from jsonschema>=2.6->nbformat->import-ipynb) (21.4.0)\n",
            "Requirement already satisfied: zipp>=3.1.0 in /usr/local/lib/python3.7/dist-packages (from importlib-resources>=1.4.0->jsonschema>=2.6->nbformat->import-ipynb) (3.8.0)\n",
            "Requirement already satisfied: ptyprocess>=0.5 in /usr/local/lib/python3.7/dist-packages (from pexpect->IPython->import-ipynb) (0.7.0)\n"
          ]
        }
      ]
    },
    {
      "cell_type": "code",
      "source": [
        "from google.colab import drive\n",
        "drive.mount('/content/gdrive')\n",
        "# Authenticate and create the PyDrive client.\n",
        "# This only needs to be done once per notebook.\n",
        "auth.authenticate_user()\n",
        "gauth = GoogleAuth()\n",
        "gauth.credentials = GoogleCredentials.get_application_default()\n",
        "drive = GoogleDrive(gauth)\n",
        "module = drive.CreateFile({'id':'1F5GF1IQkLq1zClBgR0dcpUAaGneo7JmP'})\n",
        "module.GetContentFile('bertcopy.ipynb')\n",
        "#from ActivationFunctions import *\n",
        "# from bertcopy import *\n",
        "m = torch.load(F'/content/gdrive/MyDrive/fuv=ck/fineTuneModel.pt', map_location='cpu')\n",
        "m.eval()\n"
      ],
      "metadata": {
        "id": "-HKO7FY6IeuJ",
        "colab": {
          "base_uri": "https://localhost:8080/"
        },
        "outputId": "595c1063-704c-4f68-c4f4-d387abd14aa1"
      },
      "execution_count": null,
      "outputs": [
        {
          "output_type": "stream",
          "name": "stdout",
          "text": [
            "Drive already mounted at /content/gdrive; to attempt to forcibly remount, call drive.mount(\"/content/gdrive\", force_remount=True).\n"
          ]
        },
        {
          "output_type": "execute_result",
          "data": {
            "text/plain": [
              "BertForSequenceClassification(\n",
              "  (bert): BertModel(\n",
              "    (embeddings): BertEmbeddings(\n",
              "      (word_embeddings): Embedding(30522, 768, padding_idx=0)\n",
              "      (position_embeddings): Embedding(512, 768)\n",
              "      (token_type_embeddings): Embedding(2, 768)\n",
              "      (LayerNorm): LayerNorm((768,), eps=1e-12, elementwise_affine=True)\n",
              "      (dropout): Dropout(p=0.1, inplace=False)\n",
              "    )\n",
              "    (encoder): BertEncoder(\n",
              "      (layer): ModuleList(\n",
              "        (0): BertLayer(\n",
              "          (attention): BertAttention(\n",
              "            (self): BertSelfAttention(\n",
              "              (query): Linear(in_features=768, out_features=768, bias=True)\n",
              "              (key): Linear(in_features=768, out_features=768, bias=True)\n",
              "              (value): Linear(in_features=768, out_features=768, bias=True)\n",
              "              (dropout): Dropout(p=0.1, inplace=False)\n",
              "            )\n",
              "            (output): BertSelfOutput(\n",
              "              (dense): Linear(in_features=768, out_features=768, bias=True)\n",
              "              (LayerNorm): LayerNorm((768,), eps=1e-12, elementwise_affine=True)\n",
              "              (dropout): Dropout(p=0.1, inplace=False)\n",
              "            )\n",
              "          )\n",
              "          (intermediate): BertIntermediate(\n",
              "            (dense): Linear(in_features=768, out_features=3072, bias=True)\n",
              "            (intermediate_act_fn): GELUActivation()\n",
              "          )\n",
              "          (output): BertOutput(\n",
              "            (dense): Linear(in_features=3072, out_features=768, bias=True)\n",
              "            (LayerNorm): LayerNorm((768,), eps=1e-12, elementwise_affine=True)\n",
              "            (dropout): Dropout(p=0.1, inplace=False)\n",
              "          )\n",
              "        )\n",
              "        (1): BertLayer(\n",
              "          (attention): BertAttention(\n",
              "            (self): BertSelfAttention(\n",
              "              (query): Linear(in_features=768, out_features=768, bias=True)\n",
              "              (key): Linear(in_features=768, out_features=768, bias=True)\n",
              "              (value): Linear(in_features=768, out_features=768, bias=True)\n",
              "              (dropout): Dropout(p=0.1, inplace=False)\n",
              "            )\n",
              "            (output): BertSelfOutput(\n",
              "              (dense): Linear(in_features=768, out_features=768, bias=True)\n",
              "              (LayerNorm): LayerNorm((768,), eps=1e-12, elementwise_affine=True)\n",
              "              (dropout): Dropout(p=0.1, inplace=False)\n",
              "            )\n",
              "          )\n",
              "          (intermediate): BertIntermediate(\n",
              "            (dense): Linear(in_features=768, out_features=3072, bias=True)\n",
              "            (intermediate_act_fn): GELUActivation()\n",
              "          )\n",
              "          (output): BertOutput(\n",
              "            (dense): Linear(in_features=3072, out_features=768, bias=True)\n",
              "            (LayerNorm): LayerNorm((768,), eps=1e-12, elementwise_affine=True)\n",
              "            (dropout): Dropout(p=0.1, inplace=False)\n",
              "          )\n",
              "        )\n",
              "        (2): BertLayer(\n",
              "          (attention): BertAttention(\n",
              "            (self): BertSelfAttention(\n",
              "              (query): Linear(in_features=768, out_features=768, bias=True)\n",
              "              (key): Linear(in_features=768, out_features=768, bias=True)\n",
              "              (value): Linear(in_features=768, out_features=768, bias=True)\n",
              "              (dropout): Dropout(p=0.1, inplace=False)\n",
              "            )\n",
              "            (output): BertSelfOutput(\n",
              "              (dense): Linear(in_features=768, out_features=768, bias=True)\n",
              "              (LayerNorm): LayerNorm((768,), eps=1e-12, elementwise_affine=True)\n",
              "              (dropout): Dropout(p=0.1, inplace=False)\n",
              "            )\n",
              "          )\n",
              "          (intermediate): BertIntermediate(\n",
              "            (dense): Linear(in_features=768, out_features=3072, bias=True)\n",
              "            (intermediate_act_fn): GELUActivation()\n",
              "          )\n",
              "          (output): BertOutput(\n",
              "            (dense): Linear(in_features=3072, out_features=768, bias=True)\n",
              "            (LayerNorm): LayerNorm((768,), eps=1e-12, elementwise_affine=True)\n",
              "            (dropout): Dropout(p=0.1, inplace=False)\n",
              "          )\n",
              "        )\n",
              "        (3): BertLayer(\n",
              "          (attention): BertAttention(\n",
              "            (self): BertSelfAttention(\n",
              "              (query): Linear(in_features=768, out_features=768, bias=True)\n",
              "              (key): Linear(in_features=768, out_features=768, bias=True)\n",
              "              (value): Linear(in_features=768, out_features=768, bias=True)\n",
              "              (dropout): Dropout(p=0.1, inplace=False)\n",
              "            )\n",
              "            (output): BertSelfOutput(\n",
              "              (dense): Linear(in_features=768, out_features=768, bias=True)\n",
              "              (LayerNorm): LayerNorm((768,), eps=1e-12, elementwise_affine=True)\n",
              "              (dropout): Dropout(p=0.1, inplace=False)\n",
              "            )\n",
              "          )\n",
              "          (intermediate): BertIntermediate(\n",
              "            (dense): Linear(in_features=768, out_features=3072, bias=True)\n",
              "            (intermediate_act_fn): GELUActivation()\n",
              "          )\n",
              "          (output): BertOutput(\n",
              "            (dense): Linear(in_features=3072, out_features=768, bias=True)\n",
              "            (LayerNorm): LayerNorm((768,), eps=1e-12, elementwise_affine=True)\n",
              "            (dropout): Dropout(p=0.1, inplace=False)\n",
              "          )\n",
              "        )\n",
              "        (4): BertLayer(\n",
              "          (attention): BertAttention(\n",
              "            (self): BertSelfAttention(\n",
              "              (query): Linear(in_features=768, out_features=768, bias=True)\n",
              "              (key): Linear(in_features=768, out_features=768, bias=True)\n",
              "              (value): Linear(in_features=768, out_features=768, bias=True)\n",
              "              (dropout): Dropout(p=0.1, inplace=False)\n",
              "            )\n",
              "            (output): BertSelfOutput(\n",
              "              (dense): Linear(in_features=768, out_features=768, bias=True)\n",
              "              (LayerNorm): LayerNorm((768,), eps=1e-12, elementwise_affine=True)\n",
              "              (dropout): Dropout(p=0.1, inplace=False)\n",
              "            )\n",
              "          )\n",
              "          (intermediate): BertIntermediate(\n",
              "            (dense): Linear(in_features=768, out_features=3072, bias=True)\n",
              "            (intermediate_act_fn): GELUActivation()\n",
              "          )\n",
              "          (output): BertOutput(\n",
              "            (dense): Linear(in_features=3072, out_features=768, bias=True)\n",
              "            (LayerNorm): LayerNorm((768,), eps=1e-12, elementwise_affine=True)\n",
              "            (dropout): Dropout(p=0.1, inplace=False)\n",
              "          )\n",
              "        )\n",
              "        (5): BertLayer(\n",
              "          (attention): BertAttention(\n",
              "            (self): BertSelfAttention(\n",
              "              (query): Linear(in_features=768, out_features=768, bias=True)\n",
              "              (key): Linear(in_features=768, out_features=768, bias=True)\n",
              "              (value): Linear(in_features=768, out_features=768, bias=True)\n",
              "              (dropout): Dropout(p=0.1, inplace=False)\n",
              "            )\n",
              "            (output): BertSelfOutput(\n",
              "              (dense): Linear(in_features=768, out_features=768, bias=True)\n",
              "              (LayerNorm): LayerNorm((768,), eps=1e-12, elementwise_affine=True)\n",
              "              (dropout): Dropout(p=0.1, inplace=False)\n",
              "            )\n",
              "          )\n",
              "          (intermediate): BertIntermediate(\n",
              "            (dense): Linear(in_features=768, out_features=3072, bias=True)\n",
              "            (intermediate_act_fn): GELUActivation()\n",
              "          )\n",
              "          (output): BertOutput(\n",
              "            (dense): Linear(in_features=3072, out_features=768, bias=True)\n",
              "            (LayerNorm): LayerNorm((768,), eps=1e-12, elementwise_affine=True)\n",
              "            (dropout): Dropout(p=0.1, inplace=False)\n",
              "          )\n",
              "        )\n",
              "        (6): BertLayer(\n",
              "          (attention): BertAttention(\n",
              "            (self): BertSelfAttention(\n",
              "              (query): Linear(in_features=768, out_features=768, bias=True)\n",
              "              (key): Linear(in_features=768, out_features=768, bias=True)\n",
              "              (value): Linear(in_features=768, out_features=768, bias=True)\n",
              "              (dropout): Dropout(p=0.1, inplace=False)\n",
              "            )\n",
              "            (output): BertSelfOutput(\n",
              "              (dense): Linear(in_features=768, out_features=768, bias=True)\n",
              "              (LayerNorm): LayerNorm((768,), eps=1e-12, elementwise_affine=True)\n",
              "              (dropout): Dropout(p=0.1, inplace=False)\n",
              "            )\n",
              "          )\n",
              "          (intermediate): BertIntermediate(\n",
              "            (dense): Linear(in_features=768, out_features=3072, bias=True)\n",
              "            (intermediate_act_fn): GELUActivation()\n",
              "          )\n",
              "          (output): BertOutput(\n",
              "            (dense): Linear(in_features=3072, out_features=768, bias=True)\n",
              "            (LayerNorm): LayerNorm((768,), eps=1e-12, elementwise_affine=True)\n",
              "            (dropout): Dropout(p=0.1, inplace=False)\n",
              "          )\n",
              "        )\n",
              "        (7): BertLayer(\n",
              "          (attention): BertAttention(\n",
              "            (self): BertSelfAttention(\n",
              "              (query): Linear(in_features=768, out_features=768, bias=True)\n",
              "              (key): Linear(in_features=768, out_features=768, bias=True)\n",
              "              (value): Linear(in_features=768, out_features=768, bias=True)\n",
              "              (dropout): Dropout(p=0.1, inplace=False)\n",
              "            )\n",
              "            (output): BertSelfOutput(\n",
              "              (dense): Linear(in_features=768, out_features=768, bias=True)\n",
              "              (LayerNorm): LayerNorm((768,), eps=1e-12, elementwise_affine=True)\n",
              "              (dropout): Dropout(p=0.1, inplace=False)\n",
              "            )\n",
              "          )\n",
              "          (intermediate): BertIntermediate(\n",
              "            (dense): Linear(in_features=768, out_features=3072, bias=True)\n",
              "            (intermediate_act_fn): GELUActivation()\n",
              "          )\n",
              "          (output): BertOutput(\n",
              "            (dense): Linear(in_features=3072, out_features=768, bias=True)\n",
              "            (LayerNorm): LayerNorm((768,), eps=1e-12, elementwise_affine=True)\n",
              "            (dropout): Dropout(p=0.1, inplace=False)\n",
              "          )\n",
              "        )\n",
              "        (8): BertLayer(\n",
              "          (attention): BertAttention(\n",
              "            (self): BertSelfAttention(\n",
              "              (query): Linear(in_features=768, out_features=768, bias=True)\n",
              "              (key): Linear(in_features=768, out_features=768, bias=True)\n",
              "              (value): Linear(in_features=768, out_features=768, bias=True)\n",
              "              (dropout): Dropout(p=0.1, inplace=False)\n",
              "            )\n",
              "            (output): BertSelfOutput(\n",
              "              (dense): Linear(in_features=768, out_features=768, bias=True)\n",
              "              (LayerNorm): LayerNorm((768,), eps=1e-12, elementwise_affine=True)\n",
              "              (dropout): Dropout(p=0.1, inplace=False)\n",
              "            )\n",
              "          )\n",
              "          (intermediate): BertIntermediate(\n",
              "            (dense): Linear(in_features=768, out_features=3072, bias=True)\n",
              "            (intermediate_act_fn): GELUActivation()\n",
              "          )\n",
              "          (output): BertOutput(\n",
              "            (dense): Linear(in_features=3072, out_features=768, bias=True)\n",
              "            (LayerNorm): LayerNorm((768,), eps=1e-12, elementwise_affine=True)\n",
              "            (dropout): Dropout(p=0.1, inplace=False)\n",
              "          )\n",
              "        )\n",
              "        (9): BertLayer(\n",
              "          (attention): BertAttention(\n",
              "            (self): BertSelfAttention(\n",
              "              (query): Linear(in_features=768, out_features=768, bias=True)\n",
              "              (key): Linear(in_features=768, out_features=768, bias=True)\n",
              "              (value): Linear(in_features=768, out_features=768, bias=True)\n",
              "              (dropout): Dropout(p=0.1, inplace=False)\n",
              "            )\n",
              "            (output): BertSelfOutput(\n",
              "              (dense): Linear(in_features=768, out_features=768, bias=True)\n",
              "              (LayerNorm): LayerNorm((768,), eps=1e-12, elementwise_affine=True)\n",
              "              (dropout): Dropout(p=0.1, inplace=False)\n",
              "            )\n",
              "          )\n",
              "          (intermediate): BertIntermediate(\n",
              "            (dense): Linear(in_features=768, out_features=3072, bias=True)\n",
              "            (intermediate_act_fn): GELUActivation()\n",
              "          )\n",
              "          (output): BertOutput(\n",
              "            (dense): Linear(in_features=3072, out_features=768, bias=True)\n",
              "            (LayerNorm): LayerNorm((768,), eps=1e-12, elementwise_affine=True)\n",
              "            (dropout): Dropout(p=0.1, inplace=False)\n",
              "          )\n",
              "        )\n",
              "        (10): BertLayer(\n",
              "          (attention): BertAttention(\n",
              "            (self): BertSelfAttention(\n",
              "              (query): Linear(in_features=768, out_features=768, bias=True)\n",
              "              (key): Linear(in_features=768, out_features=768, bias=True)\n",
              "              (value): Linear(in_features=768, out_features=768, bias=True)\n",
              "              (dropout): Dropout(p=0.1, inplace=False)\n",
              "            )\n",
              "            (output): BertSelfOutput(\n",
              "              (dense): Linear(in_features=768, out_features=768, bias=True)\n",
              "              (LayerNorm): LayerNorm((768,), eps=1e-12, elementwise_affine=True)\n",
              "              (dropout): Dropout(p=0.1, inplace=False)\n",
              "            )\n",
              "          )\n",
              "          (intermediate): BertIntermediate(\n",
              "            (dense): Linear(in_features=768, out_features=3072, bias=True)\n",
              "            (intermediate_act_fn): GELUActivation()\n",
              "          )\n",
              "          (output): BertOutput(\n",
              "            (dense): Linear(in_features=3072, out_features=768, bias=True)\n",
              "            (LayerNorm): LayerNorm((768,), eps=1e-12, elementwise_affine=True)\n",
              "            (dropout): Dropout(p=0.1, inplace=False)\n",
              "          )\n",
              "        )\n",
              "        (11): BertLayer(\n",
              "          (attention): BertAttention(\n",
              "            (self): BertSelfAttention(\n",
              "              (query): Linear(in_features=768, out_features=768, bias=True)\n",
              "              (key): Linear(in_features=768, out_features=768, bias=True)\n",
              "              (value): Linear(in_features=768, out_features=768, bias=True)\n",
              "              (dropout): Dropout(p=0.1, inplace=False)\n",
              "            )\n",
              "            (output): BertSelfOutput(\n",
              "              (dense): Linear(in_features=768, out_features=768, bias=True)\n",
              "              (LayerNorm): LayerNorm((768,), eps=1e-12, elementwise_affine=True)\n",
              "              (dropout): Dropout(p=0.1, inplace=False)\n",
              "            )\n",
              "          )\n",
              "          (intermediate): BertIntermediate(\n",
              "            (dense): Linear(in_features=768, out_features=3072, bias=True)\n",
              "            (intermediate_act_fn): GELUActivation()\n",
              "          )\n",
              "          (output): BertOutput(\n",
              "            (dense): Linear(in_features=3072, out_features=768, bias=True)\n",
              "            (LayerNorm): LayerNorm((768,), eps=1e-12, elementwise_affine=True)\n",
              "            (dropout): Dropout(p=0.1, inplace=False)\n",
              "          )\n",
              "        )\n",
              "      )\n",
              "    )\n",
              "    (pooler): BertPooler(\n",
              "      (dense): Linear(in_features=768, out_features=768, bias=True)\n",
              "      (activation): Tanh()\n",
              "    )\n",
              "  )\n",
              "  (dropout): Dropout(p=0.1, inplace=False)\n",
              "  (classifier): Linear(in_features=768, out_features=6, bias=True)\n",
              ")"
            ]
          },
          "metadata": {},
          "execution_count": 64
        }
      ]
    },
    {
      "cell_type": "code",
      "source": [
        "label2emo = {\n",
        "  0: \"anger\",\n",
        "  1: \"fear\",\n",
        "  2: \"joy\",\n",
        "  3: \"love\",\n",
        "  4: \"sadness\",\n",
        "  5: \"surprise\"\n",
        "}\n",
        "\n",
        "import numpy as np\n",
        "from transformers import BertTokenizer\n",
        "tokenizer = BertTokenizer.from_pretrained(F'/content/gdrive/MyDrive/fuv=ck/tokenizer/')\n",
        "\n",
        "def softmax(inputs):\n",
        "    return np.exp(inputs - np.max(inputs))/np.sum(np.exp(inputs - np.max(inputs)))\n",
        "\n",
        "from torch.nn import functional as F\n",
        "def BERT(sentence):\n",
        "  # # inputs = tokenizer(input(\"Hey! How's everything going?\\n\\n\"), return_tensors=\"pt\")\n",
        "  inputs = tokenizer(sentence, return_tensors=\"pt\")\n",
        "  with torch.no_grad():\n",
        "      output = m(**inputs)\n",
        "      logit = output['logits'].tolist()\n",
        "      inputs = np.array(logit)\n",
        "      outputs = softmax(inputs)\n",
        "      \n",
        "      maxIndex = 6\n",
        "      Max = 0\n",
        "      np.array_str(outputs).replace(' ',',')\n",
        "      # print(outputs)\n",
        "      for i in range(6):\n",
        "        # print(outputs[0][i])\n",
        "        if outputs[0][i] > Max:\n",
        "          Max = outputs[0][i]\n",
        "          maxIndex = i\n",
        "      moodString = label2emo[maxIndex]\n",
        "      return moodString"
      ],
      "metadata": {
        "id": "gBt7r945RKkg"
      },
      "execution_count": null,
      "outputs": []
    },
    {
      "cell_type": "markdown",
      "source": [
        "choose song with spotify"
      ],
      "metadata": {
        "id": "0pMW7Rbo8tLO"
      }
    },
    {
      "cell_type": "code",
      "source": [
        "!pip install spotipy"
      ],
      "metadata": {
        "colab": {
          "base_uri": "https://localhost:8080/"
        },
        "id": "C065DvTy8jQY",
        "outputId": "b8400a40-09ff-4027-caa4-a911addaa738"
      },
      "execution_count": null,
      "outputs": [
        {
          "output_type": "stream",
          "name": "stdout",
          "text": [
            "Looking in indexes: https://pypi.org/simple, https://us-python.pkg.dev/colab-wheels/public/simple/\n",
            "Requirement already satisfied: spotipy in /usr/local/lib/python3.7/dist-packages (2.19.0)\n",
            "Requirement already satisfied: six>=1.15.0 in /usr/local/lib/python3.7/dist-packages (from spotipy) (1.15.0)\n",
            "Requirement already satisfied: requests>=2.25.0 in /usr/local/lib/python3.7/dist-packages (from spotipy) (2.28.0)\n",
            "Requirement already satisfied: urllib3>=1.26.0 in /usr/local/lib/python3.7/dist-packages (from spotipy) (1.26.9)\n",
            "Requirement already satisfied: charset-normalizer~=2.0.0 in /usr/local/lib/python3.7/dist-packages (from requests>=2.25.0->spotipy) (2.0.12)\n",
            "Requirement already satisfied: idna<4,>=2.5 in /usr/local/lib/python3.7/dist-packages (from requests>=2.25.0->spotipy) (2.10)\n",
            "Requirement already satisfied: certifi>=2017.4.17 in /usr/local/lib/python3.7/dist-packages (from requests>=2.25.0->spotipy) (2022.5.18.1)\n"
          ]
        }
      ]
    },
    {
      "cell_type": "code",
      "source": [
        "import spotipy \n",
        "import random\n",
        "from spotipy.oauth2 import SpotifyClientCredentials\n",
        "import webbrowser"
      ],
      "metadata": {
        "id": "wQ6YWQjk8c-O"
      },
      "execution_count": null,
      "outputs": []
    },
    {
      "cell_type": "code",
      "source": [
        "\n",
        "from IPython.display import Javascript\n",
        "def open_web_java(url):\n",
        "    display(Javascript('window.open(\"{url}\");'.format(url=url)))"
      ],
      "metadata": {
        "id": "-eh999O3_-kn"
      },
      "execution_count": null,
      "outputs": []
    },
    {
      "cell_type": "code",
      "source": [
        "import time\n",
        "sp = spotipy.Spotify(auth_manager=SpotifyClientCredentials(client_id=\"bd74c8c910954fc09415cfea94d13a26\",client_secret=\"b3ce6caec2904c009dac6e776ff49bd1\"))                        \n",
        "song_dict = {'sadness' : [],'joy' : [],'anger' : [],'love' : [], 'surprise' : [],'fear' : [] }\n",
        "playlists = {\n",
        "            'sadness' : [\"https://open.spotify.com/playlist/3c0Nv5CY6TIaRszlTZbUFk\",\n",
        "                    \"https://open.spotify.com/playlist/70VaOHyjpsWcmA4gxosExZ\"],\n",
        "\n",
        "            'joy' : [\"https://open.spotify.com/playlist/1h90L3LP8kAJ7KGjCV2Xfd\",\n",
        "                    \"https://open.spotify.com/playlist/4AnAUkQNrLKlJCInZGSXRO\"],\n",
        "\n",
        "            'anger' : [\"https://open.spotify.com/playlist/5O12S9z3O8dEhHWt3bPbxm\",\n",
        "                        \"https://open.spotify.com/playlist/23lYtJMh8NWBahDc4FX8Ee\"],\n",
        "\n",
        "            'love' : [\"https://open.spotify.com/playlist/6oNsYDhN95gkENsdFcAwTh\",\n",
        "                        \"https://open.spotify.com/playlist/37i9dQZF1DX50QitC6Oqtn\"],\n",
        "\n",
        "            'surprise' : [\"https://open.spotify.com/playlist/4o5SxWNsTNLOi9ahHeJF8A\"],\n",
        "            \n",
        "            'fear' : [\"https://open.spotify.com/playlist/5SJpZzc6nhaezmRDFOm3Bt\",\n",
        "                        \"https://open.spotify.com/playlist/6VcH2xJR5uvi8NJ1YlUO74\"]                    \n",
        "            }\n",
        "for emo, links in playlists.items():\n",
        "    for i in links:\n",
        "        id = i.split(\"/\")[4]\n",
        "        emo_playlist = sp.user_playlist_tracks(playlist_id=id)\n",
        "        track = emo_playlist['items']\n",
        "        for song in track :\n",
        "            info= song['track']['artists'][0]['name']+\"---\"+song['track']['name']+\"   \"+song['track']['external_urls']['spotify']\n",
        "            url = song['track']['external_urls']['spotify']\n",
        "            temp = {url:info}\n",
        "            song_dict[emo].append(temp)\n",
        "            #song_dict[emo].append([url,info])\n",
        "\n",
        "\n",
        "def song_recommend(song_dict):\n",
        "    print(\"DoReMiSo! Song based on your current mood!\")\n",
        "    print(\"note: make sure that your spotify page @ broswer <= 6, or else we might not be able to play the song for you\")\n",
        "    choose_tag = input('Enter your mood:')\n",
        "    random_song = random.choice(song_dict[choose_tag])\n",
        "    for url in random_song:\n",
        "        print(\"\\nYour mood is \" +choose_tag)\n",
        "        print(\"\\nLet's see...\")\n",
        "        time.sleep(1)\n",
        "        print(\"\\nWe recommend you this song : \"+random_song[url])\n",
        "    \n",
        "    ##spotify最多同時開啟6個分頁?\n",
        "\n",
        "def auto_recommend(song_dict,emo):\n",
        "    print(\"\\nDoReMiSo! Song based on your current mood!\")\n",
        "    print(\"(note: make sure that your spotify page @ broswer <= 6, or else we might not be able to play the song for you)\")\n",
        "    random_song = random.choice(song_dict[emo])\n",
        "    for url in random_song:\n",
        "        print(\"\\nYour mood is \" +emo)\n",
        "        print(\"\\nLet's see...\")\n",
        "        time.sleep(1)\n",
        "        print(\"\\nWe recommend you this song : \"+random_song[url])\n",
        "    open_web(url)\n",
        "    \n",
        "\n",
        "def open_web(url):\n",
        "    open = input(\"\\nMay I play the song for you? (y/n)\")\n",
        "    if(open=='y'or open=='Y'):\n",
        "        open_web_java(url)\n",
        "    elif(open=='n'or open=='N'):\n",
        "        print(\"\\nThat's fine! Maybe you need something else...\")\n",
        "    else:\n",
        "        open_web(url)"
      ],
      "metadata": {
        "id": "Wsps-mhh86GH"
      },
      "execution_count": null,
      "outputs": []
    },
    {
      "cell_type": "code",
      "source": [
        "x_train,x_test,y_train,y_test = basic_info()\n",
        "tree_clf = decision_tree(x_train,x_test,y_train,y_test,100)\n",
        "logistic_clf = logistic_regression(x_train,x_test,y_train,y_test,100)"
      ],
      "metadata": {
        "colab": {
          "base_uri": "https://localhost:8080/"
        },
        "id": "05fZ7_GE9eRn",
        "outputId": "53c77b42-2d60-4ea3-c98e-579d89abc6e2"
      },
      "execution_count": null,
      "outputs": [
        {
          "output_type": "stream",
          "name": "stdout",
          "text": [
            "-------------Decision Tree-------------\n",
            "Max depth of decision tree :  100\n",
            "Accuracy: 85.20%\n",
            "Recall: 83.29%\n",
            "-------------Logistic Regression-------------\n"
          ]
        },
        {
          "output_type": "stream",
          "name": "stderr",
          "text": [
            "/usr/local/lib/python3.7/dist-packages/sklearn/linear_model/_logistic.py:818: ConvergenceWarning: lbfgs failed to converge (status=1):\n",
            "STOP: TOTAL NO. of ITERATIONS REACHED LIMIT.\n",
            "\n",
            "Increase the number of iterations (max_iter) or scale the data as shown in:\n",
            "    https://scikit-learn.org/stable/modules/preprocessing.html\n",
            "Please also refer to the documentation for alternative solver options:\n",
            "    https://scikit-learn.org/stable/modules/linear_model.html#logistic-regression\n",
            "  extra_warning_msg=_LOGISTIC_SOLVER_CONVERGENCE_MSG,\n"
          ]
        },
        {
          "output_type": "stream",
          "name": "stdout",
          "text": [
            "Max iteration of logistic regression :  100\n",
            "Accuracy: 88.70%\n",
            "Recall: 83.96%\n"
          ]
        }
      ]
    },
    {
      "cell_type": "code",
      "source": [
        "def ask():\n",
        "    example = input(\"Hi! Share what's on your mind:\\n\")\n",
        "    tree_result = tree_clf.predict([example])[0]\n",
        "    #bert_tree_result = bert_tree_clf.predict([example])[0]\n",
        "    logistic_result =logistic_clf.predict([example])[0]\n",
        "    bert = BERT(example)\n",
        "    print(\"\\nClassified by BERT: \" + bert + '\\n' + \"Classified by LR: \" + logistic_result + '\\n' + \"Classified by DT: \" + tree_result + '\\n')\n",
        "    #bert_logistic_result =bert_logistic_clf.predict([example])[0]\n",
        "\n",
        "    auto_recommend(song_dict,bert)\n",
        "    again()\n",
        "\n",
        "def again():\n",
        "    print(\"\\n-------------------------\\n\")\n",
        "    open = input(\"Let's pick another song? (y/n)\")\n",
        "    if(open=='y'or open=='Y'):\n",
        "        ask()\n",
        "    elif(open=='n'or open=='N'):\n",
        "        print(\"\\nOK! Enjoy your day ʕ •ᴥ•ʔ \")\n",
        "    else:\n",
        "        again()"
      ],
      "metadata": {
        "id": "01_9g7yu94qO"
      },
      "execution_count": null,
      "outputs": []
    },
    {
      "cell_type": "code",
      "source": [
        "ask()"
      ],
      "metadata": {
        "colab": {
          "base_uri": "https://localhost:8080/",
          "height": 1000
        },
        "id": "e52-iDrB-XMw",
        "outputId": "b714dabb-ee64-4256-866d-0deee089d999"
      },
      "execution_count": null,
      "outputs": [
        {
          "name": "stdout",
          "output_type": "stream",
          "text": [
            "Hi! Share what's on your mind:\n",
            "There he cared for them with love and kindness; but no word did he speak in their hearing.\n",
            "Classified by BERT: anger\n",
            "Classified by LR: joy\n",
            "Classified by DT: sadness\n",
            "\n",
            "\n",
            "DoReMiSo! Song based on your current mood!\n",
            "(note: make sure that your spotify page @ broswer <= 6, or else we might not be able to play the song for you)\n",
            "\n",
            "Your mood is anger\n",
            "\n",
            "Let's see...\n",
            "\n",
            "We recommend you this song : Muse---Supermassive Black Hole   https://open.spotify.com/track/3lPr8ghNDBLc2uZovNyLs9\n",
            "\n",
            "May I play the song for you? (y/n)n\n",
            "\n",
            "That's fine! Maybe you need something else...\n",
            "\n",
            "-------------------------\n",
            "\n",
            "Let's pick another song? (y/n)y\n",
            "Hi! Share what's on your mind:\n",
            "Jackson had never been so happy, and at ease, and she loved Connor with all her heart, yet she was a little sad, feeling they were growing apart.\n",
            "Classified by BERT: sadness\n",
            "Classified by LR: love\n",
            "Classified by DT: sadness\n",
            "\n",
            "\n",
            "DoReMiSo! Song based on your current mood!\n",
            "(note: make sure that your spotify page @ broswer <= 6, or else we might not be able to play the song for you)\n",
            "\n",
            "Your mood is sadness\n",
            "\n",
            "Let's see...\n",
            "\n",
            "We recommend you this song : James Arthur---Say You Won't Let Go   https://open.spotify.com/track/5uCax9HTNlzGybIStD3vDh\n",
            "\n",
            "May I play the song for you? (y/n)y\n"
          ]
        },
        {
          "output_type": "display_data",
          "data": {
            "text/plain": [
              "<IPython.core.display.Javascript object>"
            ],
            "application/javascript": [
              "window.open(\"https://open.spotify.com/track/5uCax9HTNlzGybIStD3vDh\");"
            ]
          },
          "metadata": {}
        },
        {
          "output_type": "stream",
          "name": "stdout",
          "text": [
            "\n",
            "-------------------------\n",
            "\n",
            "Let's pick another song? (y/n)y\n",
            "Hi! Share what's on your mind:\n",
            "i love you\n",
            "Classified by BERT: joy\n",
            "Classified by LR: joy\n",
            "Classified by DT: anger\n",
            "\n",
            "\n",
            "DoReMiSo! Song based on your current mood!\n",
            "(note: make sure that your spotify page @ broswer <= 6, or else we might not be able to play the song for you)\n",
            "\n",
            "Your mood is joy\n",
            "\n",
            "Let's see...\n",
            "\n",
            "We recommend you this song : Billy Joel---Uptown Girl   https://open.spotify.com/track/3CSpzkoL1XgDBZ1q9aDCUV\n",
            "\n",
            "May I play the song for you? (y/n)n\n",
            "\n",
            "That's fine! Maybe you need something else...\n",
            "\n",
            "-------------------------\n",
            "\n",
            "Let's pick another song? (y/n)y\n",
            "Hi! Share what's on your mind:\n",
            "And she's in love with Boris already.\n",
            "Classified by BERT: joy\n",
            "Classified by LR: joy\n",
            "Classified by DT: anger\n",
            "\n",
            "\n",
            "DoReMiSo! Song based on your current mood!\n",
            "(note: make sure that your spotify page @ broswer <= 6, or else we might not be able to play the song for you)\n",
            "\n",
            "Your mood is joy\n",
            "\n",
            "Let's see...\n",
            "\n",
            "We recommend you this song : Katrina & The Waves---Walking On Sunshine   https://open.spotify.com/track/05wIrZSwuaVWhcv5FfqeH0\n",
            "\n",
            "May I play the song for you? (y/n)n\n",
            "\n",
            "That's fine! Maybe you need something else...\n",
            "\n",
            "-------------------------\n",
            "\n",
            "Let's pick another song? (y/n)n\n",
            "\n",
            "OK! Enjoy your day ʕ •ᴥ•ʔ \n"
          ]
        }
      ]
    }
  ]
}